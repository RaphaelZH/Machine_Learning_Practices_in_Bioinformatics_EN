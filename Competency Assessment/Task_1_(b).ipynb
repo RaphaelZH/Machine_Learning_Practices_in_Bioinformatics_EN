{
 "cells": [
  {
   "cell_type": "markdown",
   "id": "073dbc3a",
   "metadata": {},
   "source": [
    "# Importing libraries\n",
    "\n",
    "No algorithm consistently outperformed all others in either differential survival or enriched clinical parameters. With respect to survival, `MCCA` had the best prognostic value, while `MultiNMF` was second and `LRACluster` third.\n",
    "\n",
    "Since my system currently fails to install `PMA` (`MCCA`) successfully, I install `SNFtool` (`SNF`) instead."
   ]
  },
  {
   "cell_type": "code",
   "execution_count": 1,
   "id": "c7c3b0aa",
   "metadata": {
    "ExecuteTime": {
     "end_time": "2022-05-31T16:27:17.792629Z",
     "start_time": "2022-05-31T16:27:16.656Z"
    }
   },
   "outputs": [
    {
     "name": "stderr",
     "output_type": "stream",
     "text": [
      "Loading required package: pkgmaker\n",
      "\n",
      "Loading required package: registry\n",
      "\n",
      "Loading required package: rngtools\n",
      "\n",
      "Loading required package: cluster\n",
      "\n",
      "NMF - BioConductor layer [OK] | Shared memory capabilities [NO: bigmemory] | Cores 9/10\n",
      "\n",
      "  To enable shared memory capabilities, try: install.extras('\n",
      "NMF\n",
      "')\n",
      "\n"
     ]
    }
   ],
   "source": [
    "# LRACluster\n",
    "library('LRAcluster')\n",
    "\n",
    "# MultiNMF\n",
    "library('NMF')\n",
    "\n",
    "# SNF\n",
    "library('SNFtool')"
   ]
  },
  {
   "cell_type": "code",
   "execution_count": 2,
   "id": "74d21ba1",
   "metadata": {
    "ExecuteTime": {
     "end_time": "2022-05-31T16:27:17.806339Z",
     "start_time": "2022-05-31T16:27:16.664Z"
    }
   },
   "outputs": [],
   "source": [
    "ALGORITHM.NAMES = c('lracluster', 'nmf', 'snf')\n",
    "ALGORITHM.DISPLAY.NAMES = as.list(c('LRAcluster', 'MultiNMF', 'SNF'))\n",
    "names(ALGORITHM.DISPLAY.NAMES) = ALGORITHM.NAMES"
   ]
  },
  {
   "cell_type": "markdown",
   "id": "7d866667",
   "metadata": {},
   "source": [
    "# Loading data\n",
    "\n",
    "In task 1, I chose 3 multi-omics cancer datasets: `BIC` (dataset of breast), `LIHC` (dataset of the liver) and `SKCM` (dataset of melanoma)."
   ]
  },
  {
   "cell_type": "code",
   "execution_count": 3,
   "id": "c665dc52",
   "metadata": {
    "ExecuteTime": {
     "end_time": "2022-05-31T16:27:17.812771Z",
     "start_time": "2022-05-31T16:27:16.692Z"
    }
   },
   "outputs": [],
   "source": [
    "SUBTYPES.DATA = list(\n",
    "    list(name='breast', only.primary=T, is.rna.seq=T, is.mirna.seq=T, display.name='BIC'),\n",
    "    list(name='liver', only.primary=T, is.rna.seq=T, is.mirna.seq=T, display.name='LIHC'),\n",
    "    list(name='melanoma', only.primary=F, is.rna.seq=T, is.mirna.seq=T, display.name='SKCM'))"
   ]
  },
  {
   "cell_type": "code",
   "execution_count": 4,
   "id": "268d6019",
   "metadata": {
    "ExecuteTime": {
     "end_time": "2022-05-31T16:27:17.819328Z",
     "start_time": "2022-05-31T16:27:16.698Z"
    }
   },
   "outputs": [],
   "source": [
    "get.dataset.dir.path <- function() {\n",
    "    return('./data/cancer/')\n",
    "}"
   ]
  },
  {
   "cell_type": "markdown",
   "id": "4825b474",
   "metadata": {},
   "source": [
    "# Importing functions"
   ]
  },
  {
   "cell_type": "code",
   "execution_count": 5,
   "id": "1359f257",
   "metadata": {
    "ExecuteTime": {
     "end_time": "2022-05-31T16:27:17.825630Z",
     "start_time": "2022-05-31T16:27:16.727Z"
    }
   },
   "outputs": [],
   "source": [
    "get.raw.data <- function(subtype.name,\n",
    "                         datasets.path = get.dataset.dir.path(),\n",
    "                         only.primary=NA) {\n",
    "    omics.dir = file.path(datasets.path, subtype.name)\n",
    "    omics.files = list.files(omics.dir)\n",
    "    omics.files = setdiff(omics.files, c('survival'))  \n",
    "    raw.data = lapply(file.path(omics.dir, omics.files), read.table)\n",
    "    \n",
    "    if (!is.na(only.primary)) {\n",
    "        raw.data = lapply(raw.data, function(x) filter.non.tumor.samples(x, only.primary = only.primary))\n",
    "    }\n",
    "    name.corrected.data = fix.patient.names(raw.data)\n",
    "    patients.intersection = Reduce(intersect, lapply(name.corrected.data, colnames))\n",
    "    ret.data = lapply(name.corrected.data, function(datum) datum[,patients.intersection])  \n",
    "    return(ret.data)\n",
    "}"
   ]
  },
  {
   "cell_type": "code",
   "execution_count": 6,
   "id": "6e54f565",
   "metadata": {
    "ExecuteTime": {
     "end_time": "2022-05-31T16:27:17.831238Z",
     "start_time": "2022-05-31T16:27:16.735Z"
    }
   },
   "outputs": [],
   "source": [
    "filter.non.tumor.samples <- function(raw.datum, only.primary=only.primary) {\n",
    "    # 01 is primary, 06 is metastatic, 03 is blood derived cancer\n",
    "    if (!only.primary)\n",
    "        return(raw.datum[,substring(colnames(raw.datum), 14, 15) %in% c('01', '03', '06')])\n",
    "    else\n",
    "        return(raw.datum[,substring(colnames(raw.datum), 14, 15) %in% c('01')])\n",
    "}"
   ]
  },
  {
   "cell_type": "code",
   "execution_count": 7,
   "id": "68895ac1",
   "metadata": {
    "ExecuteTime": {
     "end_time": "2022-05-31T16:27:17.838017Z",
     "start_time": "2022-05-31T16:27:16.743Z"
    }
   },
   "outputs": [],
   "source": [
    "get.fixed.names <- function(patient.names, include.type=F) {\n",
    "    # fix the TCGA names to only include the patient ids\n",
    "    if (include.type) {\n",
    "        return(gsub('-', '\\\\.', toupper(substring(patient.names, 1, 15))))\n",
    "    } else {\n",
    "        return(gsub('-', '\\\\.', toupper(substring(patient.names, 1, 12))))  \n",
    "    }\n",
    "}\n",
    "\n",
    "fix.patient.names <- function(subtype.raw.data, include.type=F) {\n",
    "    for (i in 1:length(subtype.raw.data)) {\n",
    "        colnames(subtype.raw.data[[i]]) = get.fixed.names(colnames(subtype.raw.data[[i]]),\n",
    "                                                          include.type)\n",
    "    }\n",
    "    return(subtype.raw.data)\n",
    "}"
   ]
  },
  {
   "cell_type": "code",
   "execution_count": 8,
   "id": "8e907ee9",
   "metadata": {
    "ExecuteTime": {
     "end_time": "2022-05-31T16:27:17.843853Z",
     "start_time": "2022-05-31T16:27:16.751Z"
    }
   },
   "outputs": [],
   "source": [
    "set.omics.list.attr <- function(subtype.raw.data, subtype.data) {\n",
    "    attr(subtype.raw.data[[1]], 'is.seq') = subtype.data$is.rna.seq\n",
    "    attr(subtype.raw.data[[2]], 'is.seq') = F\n",
    "    attr(subtype.raw.data[[3]], 'is.seq') = subtype.data$is.mirna.seq\n",
    "    return(subtype.raw.data)\n",
    "}"
   ]
  },
  {
   "cell_type": "code",
   "execution_count": 9,
   "id": "e29f5956",
   "metadata": {
    "ExecuteTime": {
     "end_time": "2022-05-31T16:27:17.851405Z",
     "start_time": "2022-05-31T16:27:16.759Z"
    }
   },
   "outputs": [],
   "source": [
    "log.and.normalize <- function(omics.data, subtype.data, normalize=T,\n",
    "                                filter.var=F) {\n",
    "    # filter features with no variance at all\n",
    "    for (i in 1:length(omics.data)) {\n",
    "        omics.data[[i]] = omics.data[[i]][apply(omics.data[[i]], 1, var) > 0,]\n",
    "    }\n",
    "                  \n",
    "    for (i in 1:length(omics.data)) {\n",
    "        if ('is.seq' %in% attributes(omics.data[[i]])$names) {\n",
    "            omics.data[[i]] = log(1+omics.data[[i]])\n",
    "        }\n",
    "    }\n",
    "    \n",
    "    if (filter.var) {\n",
    "        omics.data = lapply(omics.data, keep.high.var.features)\n",
    "    }\n",
    "    \n",
    "    if (normalize) {\n",
    "        omics.data = lapply(omics.data, normalize.matrix)    \n",
    "    }\n",
    "    \n",
    "    return(omics.data)\n",
    "}"
   ]
  },
  {
   "cell_type": "code",
   "execution_count": 10,
   "id": "9ab28051",
   "metadata": {
    "ExecuteTime": {
     "end_time": "2022-05-31T16:27:17.858650Z",
     "start_time": "2022-05-31T16:27:16.768Z"
    }
   },
   "outputs": [],
   "source": [
    "normalize.matrix <- function(data.matrix) {\n",
    "    temp = data.matrix - rowMeans(data.matrix)\n",
    "    should.keep = (apply(temp, 1, sd) != 0)\n",
    "    return ((temp / apply(temp, 1, sd))[should.keep, ])\n",
    "}\n",
    "\n",
    "keep.high.var.features <- function(omic, num.features=2000) {\n",
    "    if (nrow(omic) < num.features) {\n",
    "        return(omic)\n",
    "    } else {\n",
    "        feature.vars = apply(omic, 1, var)\n",
    "        threshold = feature.vars[order(feature.vars, decreasing = T)][num.features]\n",
    "        return(omic[feature.vars >= threshold,])    \n",
    "    }\n",
    "}"
   ]
  },
  {
   "cell_type": "code",
   "execution_count": 11,
   "id": "2a840674",
   "metadata": {
    "ExecuteTime": {
     "end_time": "2022-05-31T16:27:17.866045Z",
     "start_time": "2022-05-31T16:27:16.777Z"
    }
   },
   "outputs": [],
   "source": [
    "run.lracluster <- function(omics.list, subtype.data) {\n",
    "    omics.list = log.and.normalize(omics.list, subtype.data, normalize = F)\n",
    "    \n",
    "    subtype = subtype.data$name\n",
    "    start = Sys.time()\n",
    "    \n",
    "    dim.range = 1:MAX.NUM.CLUSTERS\n",
    "    all.clustering.results = list()\n",
    "    \n",
    "    omics.matrix.list = lapply(omics.list, as.matrix)\n",
    "    for (dimension in dim.range) {\n",
    "        print(paste('running lra cluster for dimension', dimension))\n",
    "        data.names = c('gene expression', 'methylation', 'miRNA expression')\n",
    "        clustering.results = LRAcluster(omics.matrix.list, \n",
    "                                        rep('gaussian', length(omics.list)), \n",
    "                                        dimension=dimension, data.names)\n",
    "        all.clustering.results[[dimension]] = clustering.results\n",
    "    }\n",
    "    explained.var = sapply(all.clustering.results, function(x) x$potential)\n",
    "    print(explained.var)\n",
    "    dimension = get.elbow(explained.var, is.max=F)\n",
    "    print(dimension)\n",
    "    solution = all.clustering.results[[dimension]]$coordinate\n",
    "    \n",
    "    sils = c()\n",
    "    clustering.per.num.clusters = list()\n",
    "    for (num.clusters in 2:MAX.NUM.CLUSTERS) {\n",
    "        print(paste('running kmeans in lra cluster for num clusters', num.clusters))\n",
    "        cur.clustering = kmeans(t(solution), num.clusters, iter.max=100, nstart=60)$cluster\n",
    "        sil = get.clustering.silhouette(list(solution), cur.clustering)\n",
    "        sils = c(sils, sil)\n",
    "        clustering.per.num.clusters[[num.clusters - 1]] = cur.clustering\n",
    "    }\n",
    "    print(sils)\n",
    "    # NOTE: the next line contains an error. We mistakenly selected the minimal rather maximal silhouette.\n",
    "    # See more details in: http://acgt.cs.tau.ac.il/multi_omic_benchmark/download.html.\n",
    "    chosen.clustering = clustering.per.num.clusters[[which.min(sils)]]\n",
    "    time.taken = as.numeric(Sys.time() - start, units='secs')\n",
    "    return(list(clustering=chosen.clustering, timing=time.taken))\n",
    "}"
   ]
  },
  {
   "cell_type": "code",
   "execution_count": 12,
   "id": "dd4bb093",
   "metadata": {
    "ExecuteTime": {
     "end_time": "2022-05-31T16:27:17.873054Z",
     "start_time": "2022-05-31T16:27:16.788Z"
    }
   },
   "outputs": [],
   "source": [
    "run.snf <- function(omics.list, subtype.data) {\n",
    "    start = Sys.time()\n",
    "    omics.list = log.and.normalize(omics.list, subtype.data)\n",
    "    subtype = subtype.data$name\n",
    "    alpha=0.5\n",
    "    T.val=30\n",
    "    num.neighbors = round(ncol(omics.list[[1]]) / 10)\n",
    "    similarity.data = lapply(omics.list, function(x) {affinityMatrix(dist2(as.matrix(t(x)),as.matrix(t(x))), \n",
    "                                                                     num.neighbors, alpha)})\n",
    "    if (length(similarity.data) == 1) {\n",
    "        W = similarity.data[[1]]\n",
    "    } else {\n",
    "        W = SNF(similarity.data, num.neighbors, T.val)  \n",
    "    }\n",
    "    \n",
    "    num.clusters = estimateNumberOfClustersGivenGraph(W, 2:MAX.NUM.CLUSTERS)[[3]]  \n",
    "    clustering = spectralClustering(W, num.clusters)\n",
    "    time.taken = as.numeric(Sys.time() - start, units='secs')\n",
    "    return(list(clustering=clustering, timing=time.taken))\n",
    "}"
   ]
  },
  {
   "cell_type": "code",
   "execution_count": 13,
   "id": "451a3763",
   "metadata": {
    "ExecuteTime": {
     "end_time": "2022-05-31T16:27:17.879182Z",
     "start_time": "2022-05-31T16:27:16.806Z"
    }
   },
   "outputs": [],
   "source": [
    "run.snf <- function(omics.list, subtype.data) {\n",
    "    start = Sys.time()\n",
    "    omics.list = log.and.normalize(omics.list, subtype.data)\n",
    "    subtype = subtype.data$name\n",
    "    alpha=0.5\n",
    "    T.val=30\n",
    "    num.neighbors = round(ncol(omics.list[[1]]) / 10)\n",
    "    similarity.data = lapply(omics.list, function(x) {affinityMatrix(dist2(as.matrix(t(x)),as.matrix(t(x))), \n",
    "                                                                     num.neighbors, alpha)})\n",
    "    if (length(similarity.data) == 1) {\n",
    "        W = similarity.data[[1]]\n",
    "    } else {\n",
    "        W = SNF(similarity.data, num.neighbors, T.val)  \n",
    "    }\n",
    "    \n",
    "    num.clusters = estimateNumberOfClustersGivenGraph(W, 2:MAX.NUM.CLUSTERS)[[3]]  \n",
    "    clustering = spectralClustering(W, num.clusters)\n",
    "    time.taken = as.numeric(Sys.time() - start, units='secs')\n",
    "    return(list(clustering=clustering, timing=time.taken))\n",
    "}"
   ]
  },
  {
   "cell_type": "markdown",
   "id": "fadb3f06",
   "metadata": {},
   "source": [
    "# Saving results"
   ]
  },
  {
   "cell_type": "code",
   "execution_count": 14,
   "id": "5e7bb506",
   "metadata": {
    "ExecuteTime": {
     "end_time": "2022-05-31T16:27:17.887903Z",
     "start_time": "2022-05-31T16:27:16.855Z"
    }
   },
   "outputs": [],
   "source": [
    "MAX.NUM.CLUSTERS = 15"
   ]
  },
  {
   "cell_type": "code",
   "execution_count": 15,
   "id": "273cf40f",
   "metadata": {
    "ExecuteTime": {
     "end_time": "2022-05-31T16:27:17.893539Z",
     "start_time": "2022-05-31T16:27:16.861Z"
    }
   },
   "outputs": [],
   "source": [
    "get.clustering.results.dir.path <- function() {\n",
    "    return('results_task_1_b')\n",
    "}"
   ]
  },
  {
   "cell_type": "code",
   "execution_count": 16,
   "id": "041dd83f",
   "metadata": {
    "ExecuteTime": {
     "end_time": "2022-05-31T16:27:17.900620Z",
     "start_time": "2022-05-31T16:27:16.874Z"
    }
   },
   "outputs": [],
   "source": [
    "run.benchmark <- function() {\n",
    "    for (i in 1:length(SUBTYPES.DATA)) {\n",
    "        current.subtype.data = SUBTYPES.DATA[[i]]\n",
    "        subtype = current.subtype.data$name\n",
    "        subtype.raw.data = get.raw.data(subtype, \n",
    "                                        only.primary=current.subtype.data$only.primary)\n",
    "        \n",
    "        subtype.raw.data = set.omics.list.attr(subtype.raw.data, \n",
    "                                               current.subtype.data)\n",
    "        \n",
    "        for (algorithm.name in ALGORITHM.NAMES) {\n",
    "            for (j in c('all', '1', '2', '3')) {\n",
    "                set.seed(42)\n",
    "                print(paste('subtype', subtype, 'running algorithm', algorithm.name, j))\n",
    "                clustering.path = file.path(get.clustering.results.dir.path(),\n",
    "                                            paste(subtype, algorithm.name, j, sep='_'))\n",
    "                timing.path = file.path(get.clustering.results.dir.path(),\n",
    "                                        paste(subtype, algorithm.name, j, 'timing', sep='_'))\n",
    "    \n",
    "    \n",
    "                if (!file.exists(clustering.path)) {\n",
    "                    algorithm.func.name = paste0('run.', algorithm.name)\n",
    "                    algorithm.func = get(algorithm.func.name)\n",
    "            if (j== 'all') {\n",
    "            cur.iteration.data = subtype.raw.data\n",
    "        } else {\n",
    "            cur.iteration.data = subtype.raw.data[as.numeric(j)]\n",
    "        }\n",
    "                algorithm.ret = algorithm.func(cur.iteration.data, current.subtype.data)\n",
    "                clustering = algorithm.ret$clustering\n",
    "                timing = algorithm.ret$timing\n",
    "                print('before saving')\n",
    "                save(clustering, file = clustering.path)\n",
    "                save(timing, file = timing.path)\n",
    "                }\n",
    "            }\n",
    "        }\n",
    "    }\n",
    "}"
   ]
  },
  {
   "cell_type": "code",
   "execution_count": null,
   "id": "efdcd2a2",
   "metadata": {
    "ExecuteTime": {
     "start_time": "2022-05-31T16:27:16.882Z"
    }
   },
   "outputs": [],
   "source": [
    "run.benchmark()"
   ]
  }
 ],
 "metadata": {
  "hide_input": false,
  "kernelspec": {
   "display_name": "R",
   "language": "R",
   "name": "ir"
  },
  "language_info": {
   "codemirror_mode": "r",
   "file_extension": ".r",
   "mimetype": "text/x-r-source",
   "name": "R",
   "pygments_lexer": "r",
   "version": "3.5.1"
  },
  "latex_envs": {
   "LaTeX_envs_menu_present": true,
   "autoclose": false,
   "autocomplete": true,
   "bibliofile": "biblio.bib",
   "cite_by": "apalike",
   "current_citInitial": 1,
   "eqLabelWithNumbers": true,
   "eqNumInitial": 1,
   "hotkeys": {
    "equation": "Ctrl-E",
    "itemize": "Ctrl-I"
   },
   "labels_anchors": false,
   "latex_user_defs": false,
   "report_style_numbering": false,
   "user_envs_cfg": false
  },
  "nbTranslate": {
   "displayLangs": [
    "*"
   ],
   "hotkey": "alt-t",
   "langInMainMenu": true,
   "sourceLang": "en",
   "targetLang": "fr",
   "useGoogleTranslate": true
  },
  "toc": {
   "base_numbering": 1,
   "nav_menu": {},
   "number_sections": true,
   "sideBar": true,
   "skip_h1_title": false,
   "title_cell": "Table of Contents",
   "title_sidebar": "Contents",
   "toc_cell": false,
   "toc_position": {},
   "toc_section_display": true,
   "toc_window_display": false
  }
 },
 "nbformat": 4,
 "nbformat_minor": 5
}
