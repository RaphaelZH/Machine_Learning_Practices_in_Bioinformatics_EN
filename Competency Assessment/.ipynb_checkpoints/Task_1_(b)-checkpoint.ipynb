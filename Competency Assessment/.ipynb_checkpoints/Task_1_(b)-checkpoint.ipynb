{
 "cells": [
  {
   "cell_type": "markdown",
   "id": "073dbc3a",
   "metadata": {},
   "source": [
    "# Importing libraries\n",
    "\n",
    "No algorithm consistently outperformed all others in either differential survival or enriched clinical parameters. With respect to survival, `MCCA` had the best prognostic value, while `MultiNMF` was second and `LRACluster` third.\n",
    "\n",
    "However, limited by the installation of the package and the program provided, I can only choose `K-means`, `Spectral` and `SNF` for clustering."
   ]
  },
  {
   "cell_type": "code",
   "execution_count": 1,
   "id": "c7c3b0aa",
   "metadata": {
    "ExecuteTime": {
     "end_time": "2022-06-02T16:00:52.979207Z",
     "start_time": "2022-06-02T16:00:52.906Z"
    }
   },
   "outputs": [],
   "source": [
    "# SNF\n",
    "library('SNFtool')\n",
    "\n",
    "# LRACluster\n",
    "library('LRAcluster')"
   ]
  },
  {
   "cell_type": "code",
   "execution_count": 2,
   "id": "74d21ba1",
   "metadata": {
    "ExecuteTime": {
     "end_time": "2022-06-02T16:00:52.988431Z",
     "start_time": "2022-06-02T16:00:52.912Z"
    }
   },
   "outputs": [],
   "source": [
    "ALGORITHM.NAMES = c('kmeans', 'spectral', 'snf')\n",
    "ALGORITHM.DISPLAY.NAMES = as.list(c('K-means', 'Spectral', 'SNF'))\n",
    "names(ALGORITHM.DISPLAY.NAMES) = ALGORITHM.NAMES"
   ]
  },
  {
   "cell_type": "markdown",
   "id": "7d866667",
   "metadata": {},
   "source": [
    "# Loading data\n",
    "\n",
    "In task 1, I chose 3 multi-omics cancer datasets: `BIC` (dataset of breast), `LIHC` (dataset of the liver) and `SKCM` (dataset of melanoma)."
   ]
  },
  {
   "cell_type": "code",
   "execution_count": 3,
   "id": "c665dc52",
   "metadata": {
    "ExecuteTime": {
     "end_time": "2022-06-02T16:00:52.996836Z",
     "start_time": "2022-06-02T16:00:52.941Z"
    }
   },
   "outputs": [],
   "source": [
    "SUBTYPES.DATA = list(\n",
    "    list(name='breast', only.primary=T, is.rna.seq=T, is.mirna.seq=T, display.name='BIC'),\n",
    "    list(name='liver', only.primary=T, is.rna.seq=T, is.mirna.seq=T, display.name='LIHC'),\n",
    "    list(name='melanoma', only.primary=F, is.rna.seq=T, is.mirna.seq=T, display.name='SKCM'))"
   ]
  },
  {
   "cell_type": "code",
   "execution_count": 4,
   "id": "268d6019",
   "metadata": {
    "ExecuteTime": {
     "end_time": "2022-06-02T16:00:53.004042Z",
     "start_time": "2022-06-02T16:00:52.948Z"
    }
   },
   "outputs": [],
   "source": [
    "get.dataset.dir.path <- function() {\n",
    "    return('./data/cancer/')\n",
    "}"
   ]
  },
  {
   "cell_type": "markdown",
   "id": "01567558",
   "metadata": {},
   "source": [
    "# Importing functions"
   ]
  },
  {
   "cell_type": "code",
   "execution_count": 5,
   "id": "1359f257",
   "metadata": {
    "ExecuteTime": {
     "end_time": "2022-06-02T16:00:53.010716Z",
     "start_time": "2022-06-02T16:00:52.975Z"
    }
   },
   "outputs": [],
   "source": [
    "get.raw.data <- function(subtype.name,\n",
    "                         datasets.path = get.dataset.dir.path(),\n",
    "                         only.primary=NA) {\n",
    "    omics.dir = file.path(datasets.path, subtype.name)\n",
    "    omics.files = list.files(omics.dir)\n",
    "    omics.files = setdiff(omics.files, c('survival'))  \n",
    "    raw.data = lapply(file.path(omics.dir, omics.files), read.table)\n",
    "    \n",
    "    if (!is.na(only.primary)) {\n",
    "        raw.data = lapply(raw.data, function(x) filter.non.tumor.samples(x, only.primary = only.primary))\n",
    "    }\n",
    "    name.corrected.data = fix.patient.names(raw.data)\n",
    "    patients.intersection = Reduce(intersect, lapply(name.corrected.data, colnames))\n",
    "    ret.data = lapply(name.corrected.data, function(datum) datum[,patients.intersection])  \n",
    "    return(ret.data)\n",
    "}"
   ]
  },
  {
   "cell_type": "code",
   "execution_count": 6,
   "id": "6e54f565",
   "metadata": {
    "ExecuteTime": {
     "end_time": "2022-06-02T16:00:53.017215Z",
     "start_time": "2022-06-02T16:00:52.985Z"
    }
   },
   "outputs": [],
   "source": [
    "filter.non.tumor.samples <- function(raw.datum, only.primary=only.primary) {\n",
    "    # 01 is primary, 06 is metastatic, 03 is blood derived cancer\n",
    "    if (!only.primary)\n",
    "        return(raw.datum[,substring(colnames(raw.datum), 14, 15) %in% c('01', '03', '06')])\n",
    "    else\n",
    "        return(raw.datum[,substring(colnames(raw.datum), 14, 15) %in% c('01')])\n",
    "}"
   ]
  },
  {
   "cell_type": "code",
   "execution_count": 7,
   "id": "68895ac1",
   "metadata": {
    "ExecuteTime": {
     "end_time": "2022-06-02T16:00:53.026295Z",
     "start_time": "2022-06-02T16:00:53.002Z"
    }
   },
   "outputs": [],
   "source": [
    "get.fixed.names <- function(patient.names, include.type=F) {\n",
    "    # fix the TCGA names to only include the patient ids\n",
    "    if (include.type) {\n",
    "        return(gsub('-', '\\\\.', toupper(substring(patient.names, 1, 15))))\n",
    "    } else {\n",
    "        return(gsub('-', '\\\\.', toupper(substring(patient.names, 1, 12))))  \n",
    "    }\n",
    "}\n",
    "\n",
    "fix.patient.names <- function(subtype.raw.data, include.type=F) {\n",
    "    for (i in 1:length(subtype.raw.data)) {\n",
    "        colnames(subtype.raw.data[[i]]) = get.fixed.names(colnames(subtype.raw.data[[i]]),\n",
    "                                                          include.type)\n",
    "    }\n",
    "    return(subtype.raw.data)\n",
    "}"
   ]
  },
  {
   "cell_type": "code",
   "execution_count": 8,
   "id": "8e907ee9",
   "metadata": {
    "ExecuteTime": {
     "end_time": "2022-06-02T16:00:53.032818Z",
     "start_time": "2022-06-02T16:00:53.013Z"
    }
   },
   "outputs": [],
   "source": [
    "set.omics.list.attr <- function(subtype.raw.data, subtype.data) {\n",
    "    attr(subtype.raw.data[[1]], 'is.seq') = subtype.data$is.rna.seq\n",
    "    attr(subtype.raw.data[[2]], 'is.seq') = F\n",
    "    attr(subtype.raw.data[[3]], 'is.seq') = subtype.data$is.mirna.seq\n",
    "    return(subtype.raw.data)\n",
    "}"
   ]
  },
  {
   "cell_type": "code",
   "execution_count": 9,
   "id": "e29f5956",
   "metadata": {
    "ExecuteTime": {
     "end_time": "2022-06-02T16:00:53.039603Z",
     "start_time": "2022-06-02T16:00:53.024Z"
    }
   },
   "outputs": [],
   "source": [
    "log.and.normalize <- function(omics.data, subtype.data, normalize=T,\n",
    "                                filter.var=F) {\n",
    "    # filter features with no variance at all\n",
    "    for (i in 1:length(omics.data)) {\n",
    "        omics.data[[i]] = omics.data[[i]][apply(omics.data[[i]], 1, var) > 0,]\n",
    "    }\n",
    "                  \n",
    "    for (i in 1:length(omics.data)) {\n",
    "        if ('is.seq' %in% attributes(omics.data[[i]])$names) {\n",
    "            omics.data[[i]] = log(1+omics.data[[i]])\n",
    "        }\n",
    "    }\n",
    "    \n",
    "    if (filter.var) {\n",
    "        omics.data = lapply(omics.data, keep.high.var.features)\n",
    "    }\n",
    "    \n",
    "    if (normalize) {\n",
    "        omics.data = lapply(omics.data, normalize.matrix)    \n",
    "    }\n",
    "    \n",
    "    return(omics.data)\n",
    "}"
   ]
  },
  {
   "cell_type": "code",
   "execution_count": 10,
   "id": "9ab28051",
   "metadata": {
    "ExecuteTime": {
     "end_time": "2022-06-02T16:00:53.054254Z",
     "start_time": "2022-06-02T16:00:53.044Z"
    }
   },
   "outputs": [],
   "source": [
    "normalize.matrix <- function(data.matrix) {\n",
    "    temp = data.matrix - rowMeans(data.matrix)\n",
    "    should.keep = (apply(temp, 1, sd) != 0)\n",
    "    return ((temp / apply(temp, 1, sd))[should.keep, ])\n",
    "}\n",
    "\n",
    "keep.high.var.features <- function(omic, num.features=2000) {\n",
    "    if (nrow(omic) < num.features) {\n",
    "        return(omic)\n",
    "    } else {\n",
    "        feature.vars = apply(omic, 1, var)\n",
    "        threshold = feature.vars[order(feature.vars, decreasing = T)][num.features]\n",
    "        return(omic[feature.vars >= threshold,])    \n",
    "    }\n",
    "}"
   ]
  },
  {
   "cell_type": "code",
   "execution_count": 11,
   "id": "5328558b",
   "metadata": {
    "ExecuteTime": {
     "end_time": "2022-06-02T16:00:53.062861Z",
     "start_time": "2022-06-02T16:00:53.054Z"
    }
   },
   "outputs": [],
   "source": [
    "run.kmeans <- function(omics.list, subtype.data) {\n",
    "    start = Sys.time()\n",
    "    omics.list = log.and.normalize(omics.list, subtype.data, \n",
    "                                   filter.var = T)\n",
    "    \n",
    "    subtype = subtype.data$name\n",
    "    all.withinss = c()\n",
    "    all.clusterings = list()\n",
    "    k.range = 1:MAX.NUM.CLUSTERS\n",
    "    for (k in k.range) {\n",
    "        concat.omics = do.call(rbind, omics.list)\n",
    "        kmeans.ret = kmeans(t(concat.omics), k, iter.max=100, nstart=60)\n",
    "        all.withinss = c(all.withinss, kmeans.ret$tot.withinss)\n",
    "        all.clusterings[[k]] = kmeans.ret$cluster\n",
    "    }\n",
    "    \n",
    "    best.k = get.elbow(all.withinss, is.max=T)\n",
    "    time.taken = as.numeric(Sys.time() - start, units='secs')\n",
    "    return(list(clustering=all.clusterings[[best.k]], \n",
    "                timing=time.taken))\n",
    "}"
   ]
  },
  {
   "cell_type": "code",
   "execution_count": 12,
   "id": "6643f00b",
   "metadata": {
    "ExecuteTime": {
     "end_time": "2022-06-02T16:00:53.073811Z",
     "start_time": "2022-06-02T16:00:53.066Z"
    }
   },
   "outputs": [],
   "source": [
    "run.spectral <- function(omics.list, subtype.data) {\n",
    "    start = Sys.time()\n",
    "    omics.list = log.and.normalize(omics.list, subtype.data, \n",
    "                                   filter.var = T)\n",
    "    subtype = subtype.data$name\n",
    "    concat.omics = do.call(rbind, omics.list)\n",
    "    \n",
    "    similarity.data = affinityMatrix(dist2(as.matrix(t(concat.omics)),\n",
    "                                           as.matrix(t(concat.omics))), \n",
    "                                     20, 0.5)\n",
    "    num.clusters = estimateNumberOfClustersGivenGraph(similarity.data, \n",
    "                                        2:MAX.NUM.CLUSTERS)[[3]]  \n",
    "    clustering = spectralClustering(similarity.data, num.clusters)\n",
    "    time.taken = as.numeric(Sys.time() - start, units='secs')\n",
    "    return(list(clustering=clustering, timing=time.taken))\n",
    "}"
   ]
  },
  {
   "cell_type": "code",
   "execution_count": 13,
   "id": "451a3763",
   "metadata": {
    "ExecuteTime": {
     "end_time": "2022-06-02T16:00:53.081924Z",
     "start_time": "2022-06-02T16:00:53.075Z"
    }
   },
   "outputs": [],
   "source": [
    "run.snf <- function(omics.list, subtype.data) {\n",
    "    start = Sys.time()\n",
    "    omics.list = log.and.normalize(omics.list, subtype.data)\n",
    "    subtype = subtype.data$name\n",
    "    alpha=0.5\n",
    "    T.val=30\n",
    "    num.neighbors = round(ncol(omics.list[[1]]) / 10)\n",
    "    similarity.data = lapply(omics.list, function(x) {affinityMatrix(dist2(as.matrix(t(x)),as.matrix(t(x))), \n",
    "                                                                     num.neighbors, alpha)})\n",
    "    if (length(similarity.data) == 1) {\n",
    "        W = similarity.data[[1]]\n",
    "    } else {\n",
    "        W = SNF(similarity.data, num.neighbors, T.val)  \n",
    "    }\n",
    "    \n",
    "    num.clusters = estimateNumberOfClustersGivenGraph(W, 2:MAX.NUM.CLUSTERS)[[3]]  \n",
    "    clustering = spectralClustering(W, num.clusters)\n",
    "    time.taken = as.numeric(Sys.time() - start, units='secs')\n",
    "    return(list(clustering=clustering, timing=time.taken))\n",
    "}"
   ]
  },
  {
   "cell_type": "code",
   "execution_count": 14,
   "id": "2a840674",
   "metadata": {
    "ExecuteTime": {
     "end_time": "2022-06-02T16:00:53.097352Z",
     "start_time": "2022-06-02T16:00:53.086Z"
    }
   },
   "outputs": [],
   "source": [
    "run.lracluster <- function(omics.list, subtype.data) {\n",
    "    omics.list = log.and.normalize(omics.list, subtype.data, normalize = F)\n",
    "    \n",
    "    subtype = subtype.data$name\n",
    "    start = Sys.time()\n",
    "    \n",
    "    dim.range = 1:MAX.NUM.CLUSTERS\n",
    "    all.clustering.results = list()\n",
    "    \n",
    "    omics.matrix.list = lapply(omics.list, as.matrix)\n",
    "    for (dimension in dim.range) {\n",
    "        print(paste('running lra cluster for dimension', dimension))\n",
    "        data.names = c('gene expression', 'methylation', 'miRNA expression')\n",
    "        clustering.results = LRAcluster(omics.matrix.list, \n",
    "                                        rep('gaussian', length(omics.list)), \n",
    "                                        dimension=dimension, data.names)\n",
    "        all.clustering.results[[dimension]] = clustering.results\n",
    "    }\n",
    "    explained.var = sapply(all.clustering.results, function(x) x$potential)\n",
    "    print(explained.var)\n",
    "    dimension = get.elbow(explained.var, is.max=F)\n",
    "    print(dimension)\n",
    "    solution = all.clustering.results[[dimension]]$coordinate\n",
    "    \n",
    "    sils = c()\n",
    "    clustering.per.num.clusters = list()\n",
    "    for (num.clusters in 2:MAX.NUM.CLUSTERS) {\n",
    "        print(paste('running kmeans in lra cluster for num clusters', num.clusters))\n",
    "        cur.clustering = kmeans(t(solution), num.clusters, iter.max=100, nstart=60)$cluster\n",
    "        sil = get.clustering.silhouette(list(solution), cur.clustering)\n",
    "        sils = c(sils, sil)\n",
    "        clustering.per.num.clusters[[num.clusters - 1]] = cur.clustering\n",
    "    }\n",
    "    print(sils)\n",
    "    # NOTE: the next line contains an error. We mistakenly selected the minimal rather maximal silhouette.\n",
    "    # See more details in: http://acgt.cs.tau.ac.il/multi_omic_benchmark/download.html.\n",
    "    chosen.clustering = clustering.per.num.clusters[[which.min(sils)]]\n",
    "    time.taken = as.numeric(Sys.time() - start, units='secs')\n",
    "    return(list(clustering=chosen.clustering, timing=time.taken))\n",
    "}\n",
    "                           \n",
    "get.elbow <- function(values, is.max) {\n",
    "    second.derivatives = c()\n",
    "    for (i in 2:(length(values) - 1)) {\n",
    "        second.derivative = values[i + 1] + values[i - 1] - 2 * values[i]\n",
    "        second.derivatives = c(second.derivatives, second.derivative)\n",
    "    }\n",
    "    print(second.derivatives)\n",
    "    if (is.max) {\n",
    "        return(which.max(second.derivatives) + 1)\n",
    "    } else {\n",
    "        return(which.min(second.derivatives) + 1)\n",
    "    }\n",
    "}\n",
    "                           \n",
    "get.clustering.silhouette <- function(raw.data, clustering) {\n",
    "  sils = c()\n",
    "  for (i in 1:length(raw.data)) {\n",
    "    x = raw.data[[i]]\n",
    "    distmatrix = dist2(as.matrix(t(x)),as.matrix(t(x)))\n",
    "    sil = silhouette(clustering, dmatrix = distmatrix)[,3]\n",
    "    sils = c(sils, mean(sil))\n",
    "  }\n",
    "  return(mean(sils))\n",
    "}"
   ]
  },
  {
   "cell_type": "markdown",
   "id": "d3f2887f",
   "metadata": {},
   "source": [
    "# Saving results"
   ]
  },
  {
   "cell_type": "code",
   "execution_count": 15,
   "id": "5e7bb506",
   "metadata": {
    "ExecuteTime": {
     "end_time": "2022-06-02T16:00:53.125949Z",
     "start_time": "2022-06-02T16:00:53.118Z"
    }
   },
   "outputs": [],
   "source": [
    "MAX.NUM.CLUSTERS = 15"
   ]
  },
  {
   "cell_type": "code",
   "execution_count": 16,
   "id": "273cf40f",
   "metadata": {
    "ExecuteTime": {
     "end_time": "2022-06-02T16:00:53.131868Z",
     "start_time": "2022-06-02T16:00:53.124Z"
    }
   },
   "outputs": [],
   "source": [
    "get.clustering.results.dir.path <- function() {\n",
    "    return('results_task_1_b')\n",
    "}"
   ]
  },
  {
   "cell_type": "code",
   "execution_count": 17,
   "id": "041dd83f",
   "metadata": {
    "ExecuteTime": {
     "end_time": "2022-06-02T16:00:53.140459Z",
     "start_time": "2022-06-02T16:00:53.133Z"
    }
   },
   "outputs": [],
   "source": [
    "run.benchmark <- function() {\n",
    "    for (i in 1:length(SUBTYPES.DATA)) {\n",
    "        current.subtype.data = SUBTYPES.DATA[[i]]\n",
    "        subtype = current.subtype.data$name\n",
    "        subtype.raw.data = get.raw.data(subtype, \n",
    "                                        only.primary=current.subtype.data$only.primary)\n",
    "        \n",
    "        subtype.raw.data = set.omics.list.attr(subtype.raw.data, \n",
    "                                               current.subtype.data)\n",
    "        \n",
    "        for (algorithm.name in ALGORITHM.NAMES) {\n",
    "            for (j in c('all', '1', '2', '3')) {\n",
    "                set.seed(42)\n",
    "                print(paste('subtype', subtype, 'running algorithm', algorithm.name, j))\n",
    "                clustering.path = file.path(get.clustering.results.dir.path(),\n",
    "                                            paste(subtype, algorithm.name, j, 'results_out.rds', sep='_'))\n",
    "                timing.path = file.path(get.clustering.results.dir.path(),\n",
    "                                        paste(subtype, algorithm.name, j, 'timing', 'results_out.rds', sep='_'))\n",
    "    \n",
    "    \n",
    "                if (!file.exists(clustering.path)) {\n",
    "                    algorithm.func.name = paste0('run.', algorithm.name)\n",
    "                    algorithm.func = get(algorithm.func.name)\n",
    "            if (j== 'all') {\n",
    "            cur.iteration.data = subtype.raw.data\n",
    "        } else {\n",
    "            cur.iteration.data = subtype.raw.data[as.numeric(j)]\n",
    "        }\n",
    "                algorithm.ret = algorithm.func(cur.iteration.data, current.subtype.data)\n",
    "                clustering = algorithm.ret$clustering\n",
    "                timing = algorithm.ret$timing\n",
    "                print('before saving')\n",
    "                save(clustering, file = clustering.path)\n",
    "                save(timing, file = timing.path)\n",
    "                }\n",
    "            }\n",
    "        }\n",
    "    }\n",
    "}"
   ]
  },
  {
   "cell_type": "code",
   "execution_count": 18,
   "id": "efdcd2a2",
   "metadata": {
    "ExecuteTime": {
     "end_time": "2022-06-02T20:08:46.494661Z",
     "start_time": "2022-06-02T16:00:53.141Z"
    }
   },
   "outputs": [
    {
     "name": "stdout",
     "output_type": "stream",
     "text": [
      "[1] \"subtype breast running algorithm kmeans all\"\n",
      " [1] 178922.2005  95757.0277  23561.8515   9291.8325  15487.4418   4859.9201\n",
      " [7]   1532.3582   5110.6231   4612.1182   3736.7752   3192.3547    520.5161\n",
      "[13]  -2381.6257\n",
      "[1] \"before saving\"\n",
      "[1] \"subtype breast running algorithm kmeans 1\"\n",
      " [1] 40401.1605 10725.1391 15567.2990  7709.2701  1774.3825  1071.5063\n",
      " [7]   488.6334  1305.3190  1742.8224   389.5815  1286.5056   689.6998\n",
      "[13]  -437.1773\n",
      "[1] \"before saving\"\n",
      "[1] \"subtype breast running algorithm kmeans 2\"\n",
      " [1] 62969.6711 44593.4602  7632.2864  7587.0058  4749.4747   701.2448\n",
      " [7]   449.9571  1299.8977   302.2871   958.9815   706.2398   -79.2305\n",
      "[13]    38.7729\n",
      "[1] \"before saving\"\n",
      "[1] \"subtype breast running algorithm kmeans 3\"\n",
      " [1] 21549.7761  5054.3709  2254.2403   753.1293  1271.7122  1122.6082\n",
      " [7]   684.7850   346.7029   247.0134   751.7384  -587.3915   227.8054\n",
      "[13]   395.6772\n",
      "[1] \"before saving\"\n",
      "[1] \"subtype breast running algorithm spectral all\"\n",
      "[1] \"before saving\"\n",
      "[1] \"subtype breast running algorithm spectral 1\"\n",
      "[1] \"before saving\"\n",
      "[1] \"subtype breast running algorithm spectral 2\"\n",
      "[1] \"before saving\"\n",
      "[1] \"subtype breast running algorithm spectral 3\"\n",
      "[1] \"before saving\"\n",
      "[1] \"subtype breast running algorithm snf all\"\n",
      "[1] \"before saving\"\n",
      "[1] \"subtype breast running algorithm snf 1\"\n",
      "[1] \"before saving\"\n",
      "[1] \"subtype breast running algorithm snf 2\"\n",
      "[1] \"before saving\"\n",
      "[1] \"subtype breast running algorithm snf 3\"\n",
      "[1] \"before saving\"\n",
      "[1] \"subtype liver running algorithm kmeans all\"\n",
      " [1] 295339.6997  10992.8404  22443.8968   3862.1634  11154.9089   5340.6972\n",
      " [7]   5307.3277   3114.7324   1999.3553    191.3393   4103.5656  -3760.3039\n",
      "[13]   7503.8743\n",
      "[1] \"before saving\"\n",
      "[1] \"subtype liver running algorithm kmeans 1\"\n",
      " [1] 11422.9084 26376.9767  3831.3886  2466.5926   224.2501  1351.9263\n",
      " [7]  2380.9273  1356.4913   518.9653  -384.0894  1504.2347 -1059.3304\n",
      "[13]  2115.5378\n",
      "[1] \"before saving\"\n",
      "[1] \"subtype liver running algorithm kmeans 2\"\n",
      " [1] 38379.0053  7832.8294  4559.5245 10073.3314   752.0473  2720.7278\n",
      " [7]  2245.6480  -255.8503  2205.8370   129.4187   252.1494   549.9330\n",
      "[13]  -339.0512\n",
      "[1] \"before saving\"\n",
      "[1] \"subtype liver running algorithm kmeans 3\"\n",
      " [1] 6289.41973 2560.28912 2318.19026 1832.30000 1240.72513  333.78096\n",
      " [7]  652.61172  293.23353  -77.94061  403.67923  201.09369 -290.52399\n",
      "[13]  775.27696\n",
      "[1] \"before saving\"\n",
      "[1] \"subtype liver running algorithm spectral all\"\n",
      "[1] \"before saving\"\n",
      "[1] \"subtype liver running algorithm spectral 1\"\n",
      "[1] \"before saving\"\n",
      "[1] \"subtype liver running algorithm spectral 2\"\n",
      "[1] \"before saving\"\n",
      "[1] \"subtype liver running algorithm spectral 3\"\n",
      "[1] \"before saving\"\n",
      "[1] \"subtype liver running algorithm snf all\"\n",
      "[1] \"before saving\"\n",
      "[1] \"subtype liver running algorithm snf 1\"\n",
      "[1] \"before saving\"\n",
      "[1] \"subtype liver running algorithm snf 2\"\n",
      "[1] \"before saving\"\n",
      "[1] \"subtype liver running algorithm snf 3\"\n",
      "[1] \"before saving\"\n",
      "[1] \"subtype melanoma running algorithm kmeans all\"\n",
      " [1] 127606.083  18027.969  12833.281   7777.302  18648.700   7351.103\n",
      " [7]   5005.123   1327.413   4030.058  -1457.756   5656.825  -1466.175\n",
      "[13]   1787.683\n",
      "[1] \"before saving\"\n",
      "[1] \"subtype melanoma running algorithm kmeans 1\"\n",
      " [1] 42976.49525  8651.14322  2550.94824  2180.49342  2498.91423  2590.24571\n",
      " [7]  1890.86087   769.16964  1499.70690   290.86883   -68.25375   831.14604\n",
      "[13]   677.06838\n",
      "[1] \"before saving\"\n",
      "[1] \"subtype melanoma running algorithm kmeans 2\"\n",
      " [1] 12750.0969 16547.1665 24247.9339  1970.2187  3243.0483  2772.9890\n",
      " [7]   185.7260   866.8763   350.3436   215.0365  1201.4998   410.8654\n",
      "[13]   716.7598\n",
      "[1] \"before saving\"\n",
      "[1] \"subtype melanoma running algorithm kmeans 3\"\n",
      " [1] 3561.95723 5735.71075 3729.80590  724.20782 1320.24080 -136.21196\n",
      " [7]  309.27398  693.14875   60.56772  271.96225   21.20988  -86.16860\n",
      "[13]  504.87405\n",
      "[1] \"before saving\"\n",
      "[1] \"subtype melanoma running algorithm spectral all\"\n",
      "[1] \"before saving\"\n",
      "[1] \"subtype melanoma running algorithm spectral 1\"\n",
      "[1] \"before saving\"\n",
      "[1] \"subtype melanoma running algorithm spectral 2\"\n",
      "[1] \"before saving\"\n",
      "[1] \"subtype melanoma running algorithm spectral 3\"\n",
      "[1] \"before saving\"\n",
      "[1] \"subtype melanoma running algorithm snf all\"\n",
      "[1] \"before saving\"\n",
      "[1] \"subtype melanoma running algorithm snf 1\"\n",
      "[1] \"before saving\"\n",
      "[1] \"subtype melanoma running algorithm snf 2\"\n",
      "[1] \"before saving\"\n",
      "[1] \"subtype melanoma running algorithm snf 3\"\n",
      "[1] \"before saving\"\n"
     ]
    }
   ],
   "source": [
    "run.benchmark()"
   ]
  }
 ],
 "metadata": {
  "hide_input": false,
  "kernelspec": {
   "display_name": "R",
   "language": "R",
   "name": "ir"
  },
  "language_info": {
   "codemirror_mode": "r",
   "file_extension": ".r",
   "mimetype": "text/x-r-source",
   "name": "R",
   "pygments_lexer": "r",
   "version": "3.5.1"
  },
  "latex_envs": {
   "LaTeX_envs_menu_present": true,
   "autoclose": false,
   "autocomplete": true,
   "bibliofile": "biblio.bib",
   "cite_by": "apalike",
   "current_citInitial": 1,
   "eqLabelWithNumbers": true,
   "eqNumInitial": 1,
   "hotkeys": {
    "equation": "Ctrl-E",
    "itemize": "Ctrl-I"
   },
   "labels_anchors": false,
   "latex_user_defs": false,
   "report_style_numbering": false,
   "user_envs_cfg": false
  },
  "nbTranslate": {
   "displayLangs": [
    "*"
   ],
   "hotkey": "alt-t",
   "langInMainMenu": true,
   "sourceLang": "en",
   "targetLang": "fr",
   "useGoogleTranslate": true
  },
  "toc": {
   "base_numbering": 1,
   "nav_menu": {},
   "number_sections": true,
   "sideBar": true,
   "skip_h1_title": false,
   "title_cell": "Table of Contents",
   "title_sidebar": "Contents",
   "toc_cell": false,
   "toc_position": {},
   "toc_section_display": true,
   "toc_window_display": false
  }
 },
 "nbformat": 4,
 "nbformat_minor": 5
}
