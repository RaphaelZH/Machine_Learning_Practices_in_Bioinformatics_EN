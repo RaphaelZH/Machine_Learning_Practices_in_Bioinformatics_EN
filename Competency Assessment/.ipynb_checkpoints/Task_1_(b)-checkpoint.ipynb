{
 "cells": [
  {
   "cell_type": "markdown",
   "id": "36ca5c3c",
   "metadata": {},
   "source": [
    "# Loading data\n",
    "\n",
    "In task 1, I chose 3 multi-omics cancer datasets: `BIC` (dataset of breast), `LIHC` (dataset of the liver) and `SKCM` (dataset of melanoma)."
   ]
  },
  {
   "cell_type": "markdown",
   "id": "72ea8fa5",
   "metadata": {
    "ExecuteTime": {
     "end_time": "2022-05-31T04:44:47.324935Z",
     "start_time": "2022-05-31T04:44:47.315Z"
    }
   },
   "source": [
    "cancers <- c('./data/cancer/breast',\n",
    "             './data/cancer/liver',\n",
    "             './data/cancer/melonoma')"
   ]
  },
  {
   "cell_type": "code",
   "execution_count": 1,
   "id": "85ac398c",
   "metadata": {
    "ExecuteTime": {
     "end_time": "2022-05-31T14:23:25.824942Z",
     "start_time": "2022-05-31T14:23:25.788Z"
    }
   },
   "outputs": [],
   "source": [
    "SUBTYPES.DATA = list(\n",
    "    list(name='breast', only.primary=T, is.rna.seq=T, is.mirna.seq=T, display.name='BIC'),\n",
    "    list(name='liver', only.primary=T, is.rna.seq=T, is.mirna.seq=T, display.name='LIHC'),\n",
    "    list(name='melanoma', only.primary=F, is.rna.seq=T, is.mirna.seq=T, display.name='SKCM'))"
   ]
  },
  {
   "cell_type": "code",
   "execution_count": 2,
   "id": "94b2f79a",
   "metadata": {
    "ExecuteTime": {
     "end_time": "2022-05-31T14:23:25.831952Z",
     "start_time": "2022-05-31T14:23:25.796Z"
    }
   },
   "outputs": [],
   "source": [
    "get.dataset.dir.path <- function() {\n",
    "    return('./data/cancer/')\n",
    "}"
   ]
  },
  {
   "cell_type": "code",
   "execution_count": 3,
   "id": "77dbe25e",
   "metadata": {
    "ExecuteTime": {
     "end_time": "2022-05-31T14:23:25.838678Z",
     "start_time": "2022-05-31T14:23:25.804Z"
    }
   },
   "outputs": [],
   "source": [
    "get.raw.data <- function(subtype.name,\n",
    "                         datasets.path = get.dataset.dir.path(),\n",
    "                         only.primary=NA) {\n",
    "    omics.dir = file.path(datasets.path, subtype.name)\n",
    "    omics.files = list.files(omics.dir)\n",
    "    omics.files = setdiff(omics.files, c('survival'))  \n",
    "    raw.data = lapply(file.path(omics.dir, omics.files), read.table)\n",
    "    \n",
    "    if (!is.na(only.primary)) {\n",
    "        raw.data = lapply(raw.data, function(x) filter.non.tumor.samples(x, only.primary = only.primary))\n",
    "    }\n",
    "    name.corrected.data = fix.patient.names(raw.data)\n",
    "    patients.intersection = Reduce(intersect, lapply(name.corrected.data, colnames))\n",
    "    ret.data = lapply(name.corrected.data, function(datum) datum[,patients.intersection])  \n",
    "    return(ret.data)\n",
    "}"
   ]
  },
  {
   "cell_type": "code",
   "execution_count": 4,
   "id": "bd95ac1c",
   "metadata": {
    "ExecuteTime": {
     "end_time": "2022-05-31T14:23:25.844378Z",
     "start_time": "2022-05-31T14:23:25.813Z"
    }
   },
   "outputs": [],
   "source": [
    "filter.non.tumor.samples <- function(raw.datum, only.primary=only.primary) {\n",
    "    # 01 is primary, 06 is metastatic, 03 is blood derived cancer\n",
    "    if (!only.primary)\n",
    "        return(raw.datum[,substring(colnames(raw.datum), 14, 15) %in% c('01', '03', '06')])\n",
    "    else\n",
    "        return(raw.datum[,substring(colnames(raw.datum), 14, 15) %in% c('01')])\n",
    "}"
   ]
  },
  {
   "cell_type": "code",
   "execution_count": 5,
   "id": "1c97bc53",
   "metadata": {
    "ExecuteTime": {
     "end_time": "2022-05-31T14:23:25.851542Z",
     "start_time": "2022-05-31T14:23:25.822Z"
    }
   },
   "outputs": [],
   "source": [
    "get.fixed.names <- function(patient.names, include.type=F) {\n",
    "    # fix the TCGA names to only include the patient ids\n",
    "    if (include.type) {\n",
    "        return(gsub('-', '\\\\.', toupper(substring(patient.names, 1, 15))))\n",
    "    } else {\n",
    "        return(gsub('-', '\\\\.', toupper(substring(patient.names, 1, 12))))  \n",
    "    }\n",
    "}\n",
    "\n",
    "fix.patient.names <- function(subtype.raw.data, include.type=F) {\n",
    "    for (i in 1:length(subtype.raw.data)) {\n",
    "        colnames(subtype.raw.data[[i]]) = get.fixed.names(colnames(subtype.raw.data[[i]]),\n",
    "                                                          include.type)\n",
    "    }\n",
    "    return(subtype.raw.data)\n",
    "}"
   ]
  },
  {
   "cell_type": "code",
   "execution_count": 6,
   "id": "74352197",
   "metadata": {
    "ExecuteTime": {
     "end_time": "2022-05-31T14:23:25.857893Z",
     "start_time": "2022-05-31T14:23:25.832Z"
    }
   },
   "outputs": [],
   "source": [
    "set.omics.list.attr <- function(subtype.raw.data, subtype.data) {\n",
    "    attr(subtype.raw.data[[1]], 'is.seq') = subtype.data$is.rna.seq\n",
    "    attr(subtype.raw.data[[2]], 'is.seq') = F\n",
    "    attr(subtype.raw.data[[3]], 'is.seq') = subtype.data$is.mirna.seq\n",
    "    return(subtype.raw.data)\n",
    "}"
   ]
  },
  {
   "cell_type": "code",
   "execution_count": null,
   "id": "aba1ca78",
   "metadata": {},
   "outputs": [],
   "source": []
  },
  {
   "cell_type": "code",
   "execution_count": 7,
   "id": "3e138c01",
   "metadata": {
    "ExecuteTime": {
     "end_time": "2022-05-31T14:23:25.864418Z",
     "start_time": "2022-05-31T14:23:25.846Z"
    }
   },
   "outputs": [],
   "source": [
    "log.and.normalize <- function(omics.data, subtype.data, normalize=T,\n",
    "                                filter.var=F) {\n",
    "    # filter features with no variance at all\n",
    "    for (i in 1:length(omics.data)) {\n",
    "        omics.data[[i]] = omics.data[[i]][apply(omics.data[[i]], 1, var) > 0,]\n",
    "    }\n",
    "                  \n",
    "    for (i in 1:length(omics.data)) {\n",
    "        if (attr(omics.data[[i]], 'is.seq')) {\n",
    "            omics.data[[i]] = log(1+omics.data[[i]])\n",
    "        }\n",
    "    }\n",
    "    \n",
    "    if (filter.var) {\n",
    "        omics.data = lapply(omics.data, keep.high.var.features)\n",
    "    }\n",
    "    \n",
    "    if (normalize) {\n",
    "        omics.data = lapply(omics.data, normalize.matrix)    \n",
    "    }\n",
    "    \n",
    "    return(omics.data)\n",
    "}"
   ]
  },
  {
   "cell_type": "code",
   "execution_count": 8,
   "id": "ee1ff038",
   "metadata": {
    "ExecuteTime": {
     "end_time": "2022-05-31T14:23:25.873612Z",
     "start_time": "2022-05-31T14:23:25.856Z"
    }
   },
   "outputs": [],
   "source": [
    "normalize.matrix <- function(data.matrix) {\n",
    "    temp = data.matrix - rowMeans(data.matrix)\n",
    "    should.keep = (apply(temp, 1, sd) != 0)\n",
    "    return ((temp / apply(temp, 1, sd))[should.keep, ])\n",
    "}\n",
    "\n",
    "keep.high.var.features <- function(omic, num.features=2000) {\n",
    "    if (nrow(omic) < num.features) {\n",
    "        return(omic)\n",
    "    } else {\n",
    "        feature.vars = apply(omic, 1, var)\n",
    "        threshold = feature.vars[order(feature.vars, decreasing = T)][num.features]\n",
    "        return(omic[feature.vars >= threshold,])    \n",
    "    }\n",
    "}"
   ]
  },
  {
   "cell_type": "markdown",
   "id": "b3cffefe",
   "metadata": {},
   "source": [
    "# Importing libraries\n",
    "\n",
    "No algorithm consistently outperformed all others in either differential survival or enriched clinical parameters. With respect to survival, `MCCA` had the best prognostic value, while `MultiNMF` was second and `LRACluster` third."
   ]
  },
  {
   "cell_type": "code",
   "execution_count": 9,
   "id": "f424289e",
   "metadata": {
    "ExecuteTime": {
     "end_time": "2022-05-31T14:23:25.902106Z",
     "start_time": "2022-05-31T14:23:25.893Z"
    }
   },
   "outputs": [],
   "source": [
    "ALGORITHM.NAMES = c('lracluster', 'mcca', 'nmf')\n",
    "ALGORITHM.DISPLAY.NAMES = as.list(c('LRAcluster', 'MCCA', 'MultiNMF'))\n",
    "names(ALGORITHM.DISPLAY.NAMES) = ALGORITHM.NAMES"
   ]
  },
  {
   "cell_type": "code",
   "execution_count": null,
   "id": "cd17ade2",
   "metadata": {},
   "outputs": [],
   "source": []
  },
  {
   "cell_type": "code",
   "execution_count": null,
   "id": "99d268c1",
   "metadata": {},
   "outputs": [],
   "source": []
  },
  {
   "cell_type": "markdown",
   "id": "22531ee4",
   "metadata": {},
   "source": []
  },
  {
   "cell_type": "code",
   "execution_count": 10,
   "id": "24c3cce9",
   "metadata": {
    "ExecuteTime": {
     "end_time": "2022-05-31T14:23:25.944281Z",
     "start_time": "2022-05-31T14:23:25.936Z"
    }
   },
   "outputs": [],
   "source": [
    "run.lracluster <- function(omics.list, subtype.data) {\n",
    "    omics.list = log.and.normalize(omics.list, subtype.data, normalize = F)\n",
    "    \n",
    "    subtype = subtype.data$name\n",
    "    start = Sys.time()\n",
    "    \n",
    "    dim.range = 1:MAX.NUM.CLUSTERS\n",
    "    all.clustering.results = list()\n",
    "    \n",
    "    omics.matrix.list = lapply(omics.list, as.matrix)\n",
    "    for (dimension in dim.range) {\n",
    "        print(paste('running lra cluster for dimension', dimension))\n",
    "        data.names = c('gene expression', 'methylation', 'miRNA expression')\n",
    "        clustering.results = LRAcluster(omics.matrix.list, \n",
    "                                        rep('gaussian', length(omics.list)), \n",
    "                                        dimension=dimension, data.names)\n",
    "        all.clustering.results[[dimension]] = clustering.results\n",
    "    }\n",
    "    explained.var = sapply(all.clustering.results, function(x) x$potential)\n",
    "    print(explained.var)\n",
    "    dimension = get.elbow(explained.var, is.max=F)\n",
    "    print(dimension)\n",
    "    solution = all.clustering.results[[dimension]]$coordinate\n",
    "    \n",
    "    sils = c()\n",
    "    clustering.per.num.clusters = list()\n",
    "    for (num.clusters in 2:MAX.NUM.CLUSTERS) {\n",
    "        print(paste('running kmeans in lra cluster for num clusters', num.clusters))\n",
    "        cur.clustering = kmeans(t(solution), num.clusters, iter.max=100, nstart=60)$cluster\n",
    "        sil = get.clustering.silhouette(list(solution), cur.clustering)\n",
    "        sils = c(sils, sil)\n",
    "        clustering.per.num.clusters[[num.clusters - 1]] = cur.clustering\n",
    "    }\n",
    "    print(sils)\n",
    "    # NOTE: the next line contains an error. We mistakenly selected the minimal rather maximal silhouette.\n",
    "    # See more details in: http://acgt.cs.tau.ac.il/multi_omic_benchmark/download.html.\n",
    "    chosen.clustering = clustering.per.num.clusters[[which.min(sils)]]\n",
    "    time.taken = as.numeric(Sys.time() - start, units='secs')\n",
    "    return(list(clustering=chosen.clustering, timing=time.taken))\n",
    "}"
   ]
  },
  {
   "cell_type": "code",
   "execution_count": 11,
   "id": "43681fb5",
   "metadata": {
    "ExecuteTime": {
     "end_time": "2022-05-31T14:23:25.956652Z",
     "start_time": "2022-05-31T14:23:25.949Z"
    }
   },
   "outputs": [],
   "source": [
    "run.mcca <- function(omics.list, subtype.data) {\n",
    "    if (length(omics.list) == 1) {\n",
    "        return(list(clustering=rep(NA, ncol(omics.list[[1]])), timing=1))\n",
    "    }\n",
    "    start = Sys.time()\n",
    "    omics.list = log.and.normalize(omics.list, subtype.data, \n",
    "                                   normalize = T,\n",
    "                                   filter.var = T)\n",
    "    \n",
    "    subtype = subtype.data$name\n",
    "    omics.transposed = lapply(omics.list, t)\n",
    "    cca.ret = PMA::MultiCCA(omics.transposed, \n",
    "                            ncomponents = MAX.NUM.CLUSTERS)\n",
    "    sample.rep = omics.transposed[[1]] %*% cca.ret$ws[[1]]\n",
    "    \n",
    "    explained.vars = sapply(1:MAX.NUM.CLUSTERS, \n",
    "                            function(i) sum(unlist(apply(sample.rep[1:i,,drop=F], 2, var))))\n",
    "    \n",
    "    dimension = get.elbow(explained.vars, is.max=F)\n",
    "    print(dimension)\n",
    "    sample.rep = sample.rep[,1:dimension]\n",
    "    sils = c()\n",
    "    clustering.per.num.clusters = list()\n",
    "    for (num.clusters in 2:MAX.NUM.CLUSTERS) {\n",
    "        cur.clustering = kmeans(sample.rep, num.clusters, iter.max=100, nstart=30)$cluster  \n",
    "        sil = get.clustering.silhouette(list(t(sample.rep)), cur.clustering)\n",
    "        sils = c(sils, sil)\n",
    "        clustering.per.num.clusters[[num.clusters - 1]] = cur.clustering\n",
    "    }\n",
    "    # NOTE: the next line contains an error. We mistakenly selected the minimal rather maximal silhouette.\n",
    "    # See more details in: http://acgt.cs.tau.ac.il/multi_omic_benchmark/download.html.\n",
    "    cca.clustering = clustering.per.num.clusters[[which.min(sils)]]\n",
    "    time.taken = as.numeric(Sys.time() - start, units='secs')\n",
    "    return(list(clustering=cca.clustering, timing=time.taken))\n",
    "}"
   ]
  },
  {
   "cell_type": "code",
   "execution_count": 12,
   "id": "1a4b8d24",
   "metadata": {
    "ExecuteTime": {
     "end_time": "2022-05-31T14:23:25.976215Z",
     "start_time": "2022-05-31T14:23:25.966Z"
    }
   },
   "outputs": [],
   "source": [
    "run.snf <- function(omics.list, subtype.data) {\n",
    "    start = Sys.time()\n",
    "    omics.list = log.and.normalize(omics.list, subtype.data)\n",
    "    subtype = subtype.data$name\n",
    "    alpha=0.5\n",
    "    T.val=30\n",
    "    num.neighbors = round(ncol(omics.list[[1]]) / 10)\n",
    "    similarity.data = lapply(omics.list, function(x) {affinityMatrix(dist2(as.matrix(t(x)),as.matrix(t(x))), \n",
    "                                                                     num.neighbors, alpha)})\n",
    "    if (length(similarity.data) == 1) {\n",
    "        W = similarity.data[[1]]\n",
    "    } else {\n",
    "        W = SNF(similarity.data, num.neighbors, T.val)  \n",
    "    }\n",
    "    \n",
    "    num.clusters = estimateNumberOfClustersGivenGraph(W, 2:MAX.NUM.CLUSTERS)[[3]]  \n",
    "    clustering = spectralClustering(W, num.clusters)\n",
    "    time.taken = as.numeric(Sys.time() - start, units='secs')\n",
    "    return(list(clustering=clustering, timing=time.taken))\n",
    "}"
   ]
  },
  {
   "cell_type": "code",
   "execution_count": null,
   "id": "4189b214",
   "metadata": {},
   "outputs": [],
   "source": []
  },
  {
   "cell_type": "code",
   "execution_count": null,
   "id": "09790de8",
   "metadata": {},
   "outputs": [],
   "source": []
  },
  {
   "cell_type": "code",
   "execution_count": null,
   "id": "1a5502cf",
   "metadata": {},
   "outputs": [],
   "source": []
  },
  {
   "cell_type": "code",
   "execution_count": 13,
   "id": "7facb0e1",
   "metadata": {
    "ExecuteTime": {
     "end_time": "2022-05-31T14:23:26.015417Z",
     "start_time": "2022-05-31T14:23:26.008Z"
    }
   },
   "outputs": [],
   "source": [
    "get.clustering.results.dir.path <- function() {\n",
    "    return('results_task_1_b')\n",
    "}"
   ]
  },
  {
   "cell_type": "code",
   "execution_count": null,
   "id": "7a88bc65",
   "metadata": {},
   "outputs": [],
   "source": []
  },
  {
   "cell_type": "code",
   "execution_count": 14,
   "id": "8713b5a5",
   "metadata": {
    "ExecuteTime": {
     "end_time": "2022-05-31T14:23:26.035669Z",
     "start_time": "2022-05-31T14:23:26.028Z"
    }
   },
   "outputs": [],
   "source": [
    "run.benchmark <- function() {\n",
    "    for (i in 1:length(SUBTYPES.DATA)) {\n",
    "        current.subtype.data = SUBTYPES.DATA[[i]]\n",
    "        subtype = current.subtype.data$name\n",
    "        subtype.raw.data = get.raw.data(subtype, \n",
    "                                        only.primary=current.subtype.data$only.primary)\n",
    "        \n",
    "        subtype.raw.data = set.omics.list.attr(subtype.raw.data, \n",
    "                                               current.subtype.data)\n",
    "        \n",
    "        for (algorithm.name in ALGORITHM.NAMES) {\n",
    "            for (j in c('all', '1', '2', '3')) {\n",
    "                set.seed(42)\n",
    "                print(paste('subtype', subtype, 'running algorithm', algorithm.name, j))\n",
    "                clustering.path = file.path(get.clustering.results.dir.path(),\n",
    "                                            paste(subtype, algorithm.name, j, sep='_'))\n",
    "                timing.path = file.path(get.clustering.results.dir.path(),\n",
    "                                        paste(subtype, algorithm.name, j, 'timing', sep='_'))\n",
    "    \n",
    "    \n",
    "                if (!file.exists(clustering.path)) {\n",
    "                    algorithm.func.name = paste0('run.', algorithm.name)\n",
    "                    algorithm.func = get(algorithm.func.name)\n",
    "            if (j== 'all') {\n",
    "            cur.iteration.data = subtype.raw.data\n",
    "        } else {\n",
    "            cur.iteration.data = subtype.raw.data[as.numeric(j)]\n",
    "        }\n",
    "                algorithm.ret = algorithm.func(cur.iteration.data, current.subtype.data)\n",
    "                clustering = algorithm.ret$clustering\n",
    "                timing = algorithm.ret$timing\n",
    "        print('before saving')\n",
    "                save(clustering, file = clustering.path)\n",
    "                save(timing, file = timing.path)\n",
    "                }\n",
    "            }\n",
    "        }\n",
    "    }\n",
    "}"
   ]
  },
  {
   "cell_type": "code",
   "execution_count": 15,
   "id": "d62db390",
   "metadata": {
    "ExecuteTime": {
     "end_time": "2022-05-31T14:26:13.804660Z",
     "start_time": "2022-05-31T14:23:26.052Z"
    }
   },
   "outputs": [
    {
     "name": "stdout",
     "output_type": "stream",
     "text": [
      "[1] \"subtype breast running algorithm lracluster all\"\n"
     ]
    },
    {
     "ename": "ERROR",
     "evalue": "Error in if (attributes(omics.data[[i]])$is.seq) {: l'argument est de longueur nulle\n",
     "output_type": "error",
     "traceback": [
      "Error in if (attributes(omics.data[[i]])$is.seq) {: l'argument est de longueur nulle\nTraceback:\n",
      "1. run.benchmark()",
      "2. algorithm.func(cur.iteration.data, current.subtype.data)   # at line 29 of file <text>",
      "3. log.and.normalize(omics.list, subtype.data, normalize = F)   # at line 2 of file <text>"
     ]
    }
   ],
   "source": [
    "run.benchmark()"
   ]
  },
  {
   "cell_type": "code",
   "execution_count": null,
   "id": "e3ec3d96",
   "metadata": {},
   "outputs": [],
   "source": []
  },
  {
   "cell_type": "code",
   "execution_count": null,
   "id": "6f79a4b1",
   "metadata": {
    "ExecuteTime": {
     "end_time": "2022-05-31T06:46:52.587693Z",
     "start_time": "2022-05-31T06:46:52.557Z"
    }
   },
   "outputs": [],
   "source": []
  },
  {
   "cell_type": "code",
   "execution_count": null,
   "id": "c136b701",
   "metadata": {},
   "outputs": [],
   "source": []
  }
 ],
 "metadata": {
  "hide_input": false,
  "kernelspec": {
   "display_name": "R",
   "language": "R",
   "name": "ir"
  },
  "language_info": {
   "codemirror_mode": "r",
   "file_extension": ".r",
   "mimetype": "text/x-r-source",
   "name": "R",
   "pygments_lexer": "r",
   "version": "3.5.1"
  },
  "latex_envs": {
   "LaTeX_envs_menu_present": true,
   "autoclose": false,
   "autocomplete": true,
   "bibliofile": "biblio.bib",
   "cite_by": "apalike",
   "current_citInitial": 1,
   "eqLabelWithNumbers": true,
   "eqNumInitial": 1,
   "hotkeys": {
    "equation": "Ctrl-E",
    "itemize": "Ctrl-I"
   },
   "labels_anchors": false,
   "latex_user_defs": false,
   "report_style_numbering": false,
   "user_envs_cfg": false
  },
  "nbTranslate": {
   "displayLangs": [
    "*"
   ],
   "hotkey": "alt-t",
   "langInMainMenu": true,
   "sourceLang": "en",
   "targetLang": "fr",
   "useGoogleTranslate": true
  },
  "toc": {
   "base_numbering": 1,
   "nav_menu": {},
   "number_sections": true,
   "sideBar": true,
   "skip_h1_title": false,
   "title_cell": "Table of Contents",
   "title_sidebar": "Contents",
   "toc_cell": false,
   "toc_position": {},
   "toc_section_display": true,
   "toc_window_display": false
  }
 },
 "nbformat": 4,
 "nbformat_minor": 5
}
