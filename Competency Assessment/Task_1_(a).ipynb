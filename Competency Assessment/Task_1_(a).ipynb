{
 "cells": [
  {
   "cell_type": "markdown",
   "id": "d6b2e366",
   "metadata": {},
   "source": [
    "# Importing libraries\n",
    "\n",
    "Because the original cancer datasets do not contain annotations, the effect of joint dimensionality reduction approaches on factors with clinical annotations or biological annotations does not need to be considered when processing such datasets. Just need to consider the effect of factors on survival.\n",
    "\n",
    "In general, `MCIA`, `RGCCA`, and `JIVE` achieved the best performances, finding factors significantly associated with survival in seven out of ten cancer types."
   ]
  },
  {
   "cell_type": "code",
   "execution_count": 1,
   "id": "7d197163",
   "metadata": {
    "ExecuteTime": {
     "end_time": "2022-05-31T04:52:49.962163Z",
     "start_time": "2022-05-31T04:52:49.258Z"
    }
   },
   "outputs": [
    {
     "name": "stderr",
     "output_type": "stream",
     "text": [
      "Loading required package: ade4\n",
      "\n"
     ]
    }
   ],
   "source": [
    "# MCIA is implemented in the R package omicade4\n",
    "# (https://bioconductor.org/packages/release/bioc/html/omicade4.html).\n",
    "library(\"omicade4\")\n",
    "\n",
    "# RGCCA is implemented into the CRAN package RGCCA\n",
    "# (https://cran.r-project.org/web/packages/RGCCA/index.html).\n",
    "library(\"RGCCA\")\n",
    "\n",
    "# JIVE is implemented into the R package r.jive\n",
    "# (https://cran.r-project.org/web/packages/r.jive/index.html).\n",
    "library(\"r.jive\")"
   ]
  },
  {
   "cell_type": "markdown",
   "id": "9be976b0",
   "metadata": {},
   "source": [
    "# Importing functions"
   ]
  },
  {
   "cell_type": "code",
   "execution_count": 2,
   "id": "79d1b233",
   "metadata": {
    "ExecuteTime": {
     "end_time": "2022-05-31T04:52:49.975172Z",
     "start_time": "2022-05-31T04:52:49.295Z"
    }
   },
   "outputs": [],
   "source": [
    "# The function runfactoization runs all the considered multi-omics factorization.\n",
    "runfactorization <- function(folder,file.names,num.factors,sep=\" \",filtering=\"none\"){\n",
    "    factorizations<-list()\n",
    "    t<-1\n",
    "    method<-numeric(0)\n",
    "    \n",
    "    num.factors<-as.numeric(num.factors)\n",
    "\n",
    "    \n",
    "    ##creating list of omics\n",
    "    omics <- list()\n",
    "    for(i in 1:length(file.names)){\n",
    "      omics[[i]]<-as.matrix(read.table(paste(folder,file.names[i],sep=\"/\"),sep=sep,row.names=1,header=T))\n",
    "    }\n",
    "    \n",
    "    ####\n",
    "    #omics<-lapply(omics, function(x) t(x))\n",
    "    ######\n",
    "    \n",
    "    ##restricting to common samples and filtering\n",
    "    samples<-colnames(omics[[1]])\n",
    "    for(j in 1:length(omics)){\n",
    "      samples<-intersect(samples,colnames(omics[[j]]))\n",
    "    }\n",
    "    for(j in 1:length(omics)){\n",
    "      omics[[j]]<-omics[[j]][,samples]\n",
    "      if(filtering!=\"none\"){\n",
    "        x<-apply( omics[[j]],1,sd)\n",
    "        x<-as.matrix(sort(x, decreasing = T))\n",
    "        w<-which(x>0)\n",
    "        if(filtering==\"stringent\"){\n",
    "          selected<-rownames(x)[1:min(w[length(w)],5000)]\n",
    "        }else{\n",
    "          selected<-rownames(x)[1:min(w[length(w)],6000)]\n",
    "        }\n",
    "        m<-match(rownames(omics[[j]]),selected)\n",
    "        w<-which(!is.na(m))\n",
    "        omics[[j]]<-omics[[j]][w,]\n",
    "      }else{\n",
    "        omics[[j]]<-omics[[j]][,which(apply(omics[[j]],2,sd)>0)]\n",
    "      }\n",
    "    }  \n",
    "\n",
    "    ##RGCCA \n",
    "    factorizations_RGCCA<-rgcca(lapply(omics, function(x) t(x)), ncomp = rep(num.factors, length(omics)), scheme = \"centroid\", scale = TRUE, init = \"svd\",bias = TRUE, tol = 1e-08, verbose = F)\n",
    "    factors_rgcca<-as.matrix(factorizations_RGCCA$Y[[1]])\n",
    "    metagenes_rgcca <- list()\n",
    "    for(j in 1:length(omics)){\n",
    "      metagenes_rgcca[[j]]<-as.matrix(factorizations_RGCCA$a[[j]])\n",
    "      rownames(metagenes_rgcca[[j]])<-rownames(omics[[j]])\n",
    "      colnames(metagenes_rgcca[[j]])<-1:num.factors\n",
    "    }\n",
    "    factorizations[[t]]<-list(factors_rgcca,metagenes_rgcca)\n",
    "    t<-t+1\n",
    "    method<-c(method,\"RGCCA\")\n",
    "    \n",
    "    ###MCIA\n",
    "    omics_pos<-list()\n",
    "    for(j in 1:length(omics)){\n",
    "      if(min(omics[[j]])<0){\n",
    "        omics_pos[[j]]<-omics[[j]]+abs(min(omics[[j]]))\n",
    "      }else{\n",
    "        omics_pos[[j]]<-omics[[j]]\n",
    "      }\n",
    "      omics_pos[[j]]<-omics_pos[[j]]/max(omics_pos[[j]])\n",
    "    }\n",
    "    factorizations_mcia<-mcia(omics_pos, cia.nf = num.factors)\n",
    "    factors_mcia<-as.matrix(factorizations_mcia$mcoa$SynVar)\n",
    "    metagenes_mcia<-list()\n",
    "    for(j in 1:length(omics)){\n",
    "      metagenes_mcia[[j]]<-as.matrix(factorizations_mcia$mcoa$axis[1:dim(omics[[j]])[1],])\n",
    "      rownames(metagenes_mcia[[j]])<-rownames(omics[[j]])\n",
    "      colnames(metagenes_mcia[[j]])<-1:num.factors\n",
    "    }\n",
    "    factorizations[[t]]<-list(factors_mcia,metagenes_mcia)\n",
    "    t<-t+1\n",
    "    method<-c(method,\"MCIA\")\n",
    "\n",
    "    ### JIVE\n",
    "    factorizations_jive<-jive(omics, rankJ=num.factors, rankA = rep(num.factors, length(omics)), method = \"given\", conv = \"default\", maxiter = 100, showProgress=FALSE)\n",
    "    rankJV <- factorizations_jive$rankJ;\n",
    "    rankIV.v <- factorizations_jive$rankA;\n",
    "    J<-numeric(0)\n",
    "    ng<-0\n",
    "    metagenes_jive <- list();\n",
    "    for(j in 1:length(omics)){\n",
    "      J <- rbind(J,factorizations_jive$joint[[j]]);\n",
    "      ng<-c(ng,dim(factorizations_jive$joint[[j]])[1])\n",
    "    }\n",
    "    svd.o <- svd(J);\n",
    "    jV <- svd.o$v %*% diag(svd.o$d);\n",
    "    for(j in 1:length(omics)){\n",
    "      metagenes_jive[[j]] <- svd.o$u[(1+sum(ng[1:j])):sum(ng[1:j+1]),1:rankJV]; ###error in dimension\n",
    "      rownames(metagenes_jive[[j]])<-rownames(omics[[j]])\n",
    "      colnames(metagenes_jive[[j]])<-1:num.factors\n",
    "    }\n",
    "    factors_jive=jV[,1:rankJV]\n",
    "    rownames(factors_jive)<-colnames(omics[[1]])\n",
    "    colnames(factors_jive)<-1:num.factors\n",
    "    factorizations[[t]]<-list(factors_jive,metagenes_jive)\n",
    "    t<-t+1\n",
    "    method<-c(method,\"JIVE\")\n",
    "                                       \n",
    "    out<-list(factorizations=factorizations,method=method)\n",
    "    \n",
    "    return(out)\n",
    "}"
   ]
  },
  {
   "cell_type": "code",
   "execution_count": 3,
   "id": "7d05a422",
   "metadata": {
    "ExecuteTime": {
     "end_time": "2022-05-31T04:52:49.981558Z",
     "start_time": "2022-05-31T04:52:49.315Z"
    }
   },
   "outputs": [],
   "source": [
    "# The input files need to be log2 transformed before running the analysis.\n",
    "# Support function to apply log2(+1) to a matrix.\n",
    "log2matrix <- function(folder, file.name){\n",
    "    # Read table\n",
    "    data <- as.matrix(read.table(paste(folder,file.name,sep=\"/\"),sep=\" \",row.names=1,header=TRUE))\n",
    "    # Apply transformation\n",
    "    data <- log2(data+1)\n",
    "    # Output file name\n",
    "    output <- paste(folder,paste0(\"log_\",file.name), sep=\"/\")\n",
    "    # Export transformed data\n",
    "    write.table(data,output,sep=\" \", col.names=TRUE, row.names=TRUE)\n",
    "    # ?\n",
    "    system(paste(\"sed -i '1s/^/probe\\t/'\", output, sep=\" \"))\n",
    "}"
   ]
  },
  {
   "cell_type": "markdown",
   "id": "f23147de",
   "metadata": {},
   "source": [
    "# Loading data\n",
    "\n",
    "Between the five multi-omics cancer datasets, I'd live to choose `BIC` (dataset of breast), `LIHC` (dataset of the liver) and `SKCM` (dataset of melanoma). Because `MCIA` performed the best for melanoma; `JIVE` performed the best in liver cancer ; `RGCCA` performed the best in breast cancer."
   ]
  },
  {
   "cell_type": "code",
   "execution_count": 4,
   "id": "b16a5421",
   "metadata": {
    "ExecuteTime": {
     "end_time": "2022-05-31T04:52:49.987692Z",
     "start_time": "2022-05-31T04:52:49.342Z"
    }
   },
   "outputs": [],
   "source": [
    "cancers <- c('./data/cancer/breast',\n",
    "             './data/cancer/liver',\n",
    "             './data/cancer/melanoma')"
   ]
  },
  {
   "cell_type": "markdown",
   "id": "dbb7bd9b",
   "metadata": {},
   "source": [
    "# Saving results"
   ]
  },
  {
   "cell_type": "code",
   "execution_count": 5,
   "id": "2df25edb",
   "metadata": {
    "ExecuteTime": {
     "end_time": "2022-05-31T04:52:49.997826Z",
     "start_time": "2022-05-31T04:52:49.369Z"
    }
   },
   "outputs": [],
   "source": [
    "# Label to identify current run\n",
    "tag <- format(Sys.time(), \"%Y_%m_%d_%H_%M\")\n",
    "\n",
    "# Folder for comparison results\n",
    "results_folder <- paste0(\"./results_\", tag, \"/\")\n",
    "\n",
    "# Create output folder\n",
    "dir.create(results_folder, showWarnings = FALSE)"
   ]
  },
  {
   "cell_type": "markdown",
   "id": "35fa6a30",
   "metadata": {
    "ExecuteTime": {
     "end_time": "2022-05-09T20:39:35.479449Z",
     "start_time": "2022-05-09T20:39:34.758Z"
    }
   },
   "source": [
    "\n"
   ]
  },
  {
   "cell_type": "code",
   "execution_count": 6,
   "id": "9f820e3c",
   "metadata": {
    "ExecuteTime": {
     "end_time": "2022-05-31T04:52:50.004852Z",
     "start_time": "2022-05-31T04:52:49.393Z"
    }
   },
   "outputs": [],
   "source": [
    "# Number of factors used in the paper\n",
    "num.factors <- 2"
   ]
  },
  {
   "cell_type": "code",
   "execution_count": 7,
   "id": "a5575562",
   "metadata": {
    "ExecuteTime": {
     "end_time": "2022-05-31T05:06:25.150379Z",
     "start_time": "2022-05-31T04:52:49.401Z"
    }
   },
   "outputs": [
    {
     "name": "stdout",
     "output_type": "stream",
     "text": [
      "[1] \"Now analysing ./data/cancer/breast\"\n",
      "[1] \"Running factorisation...\"\n",
      "[1] \"Now analysing ./data/cancer/liver\"\n",
      "[1] \"Running factorisation...\"\n",
      "[1] \"Now analysing ./data/cancer/melanoma\"\n",
      "[1] \"Running factorisation...\"\n"
     ]
    }
   ],
   "source": [
    "for(i in cancers){\n",
    "\n",
    "    print(paste0(\"Now analysing \", i))\n",
    "    \n",
    "    # Name of current cancer\n",
    "    current_cancer <- basename(i)\n",
    "\n",
    "    # If the expression and miRNA data are not log2-transformed as for those provided by XX et al.\n",
    "    log2matrix(i,\"exp\")\n",
    "    log2matrix(i,\"mirna\")\n",
    "\n",
    "    # Perform factorisation\n",
    "    print(\"Running factorisation...\")\n",
    "    out <- runfactorization(i, c(\"log_exp\",\"methy\",\"log_mirna\"), num.factors, sep=\" \", filtering=\"sd\")\n",
    "    save(out, file=paste0(results_folder, current_cancer, \"_results_out.rds\"))\n",
    "    \n",
    "}"
   ]
  }
 ],
 "metadata": {
  "hide_input": false,
  "interpreter": {
   "hash": "8e721a8a70a78c1f9728496489dcd4664ab4a0b7e48047a387e6886a9ca48ae8"
  },
  "kernelspec": {
   "display_name": "R",
   "language": "R",
   "name": "ir"
  },
  "language_info": {
   "codemirror_mode": "r",
   "file_extension": ".r",
   "mimetype": "text/x-r-source",
   "name": "R",
   "pygments_lexer": "r",
   "version": "3.5.1"
  },
  "latex_envs": {
   "LaTeX_envs_menu_present": true,
   "autoclose": false,
   "autocomplete": true,
   "bibliofile": "biblio.bib",
   "cite_by": "apalike",
   "current_citInitial": 1,
   "eqLabelWithNumbers": true,
   "eqNumInitial": 1,
   "hotkeys": {
    "equation": "Ctrl-E",
    "itemize": "Ctrl-I"
   },
   "labels_anchors": false,
   "latex_user_defs": false,
   "report_style_numbering": false,
   "user_envs_cfg": false
  },
  "nbTranslate": {
   "displayLangs": [
    "*"
   ],
   "hotkey": "alt-t",
   "langInMainMenu": true,
   "sourceLang": "en",
   "targetLang": "fr",
   "useGoogleTranslate": true
  },
  "toc": {
   "base_numbering": 1,
   "nav_menu": {},
   "number_sections": true,
   "sideBar": true,
   "skip_h1_title": false,
   "title_cell": "Table of Contents",
   "title_sidebar": "Contents",
   "toc_cell": false,
   "toc_position": {},
   "toc_section_display": true,
   "toc_window_display": false
  }
 },
 "nbformat": 4,
 "nbformat_minor": 5
}
